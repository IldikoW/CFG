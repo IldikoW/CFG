{
  "nbformat": 4,
  "nbformat_minor": 0,
  "metadata": {
    "colab": {
      "provenance": [],
      "authorship_tag": "ABX9TyMqu0X1Sncek+iLulr2jTAk",
      "include_colab_link": true
    },
    "kernelspec": {
      "name": "python3",
      "display_name": "Python 3"
    },
    "language_info": {
      "name": "python"
    }
  },
  "cells": [
    {
      "cell_type": "markdown",
      "metadata": {
        "id": "view-in-github",
        "colab_type": "text"
      },
      "source": [
        "<a href=\"https://colab.research.google.com/github/IldikoW/CFG/blob/main/Homework1/HomeWork1.ipynb\" target=\"_parent\"><img src=\"https://colab.research.google.com/assets/colab-badge.svg\" alt=\"Open In Colab\"/></a>"
      ]
    },
    {
      "cell_type": "markdown",
      "source": [
        "Question 1  \n",
        "In no more than 500 words, explain the differences between a Jupyter Notebook (.ipynb\n",
        "extension) and a Python file (.py extension). Focus on the advantages and disadvantages of\n",
        "one or the other, particularly for data analysts/scientists. You are encouraged to use\n",
        "examples and screenshots of the different scripts to support your arguments."
      ],
      "metadata": {
        "id": "Twrj3r0DGdpI"
      }
    },
    {
      "cell_type": "markdown",
      "source": [
        "**Jupyter Notebooks (.ipynb) and Python files (.py) are two different formats , jupyter nootbook files ending with .ipynb and Python files end with .py**\n",
        "\n",
        "# **Jupyter Notebooks (.ipynb):**\n",
        "\n",
        "**Advantages:**\n",
        "\n",
        "Interactivity: Jupyter Notebooks provide an interactive environment where code can be executed cell after cell. This is advantageous for data analysis tasks as it allows users to visualize intermediate results, making it easier to understand and debug code.\n",
        "Rich Media Support: Jupyter Notebooks support the integration of rich media: images, plots, and HTML. This is particularly beneficial for data scientists who want to create and share documents that combine code, visualizations, and explanations in a single file.\n",
        "\n",
        "Documentation and Exploration: Jupyter Notebooks allow for the inclusion of markdown cells, making the creation of documentation easy within the same document as the code. This is useful for data analysts who need to explain their thought process, document data cleaning steps, and share insights with others."
      ],
      "metadata": {
        "id": "qxxrzuts2lxD"
      }
    },
    {
      "cell_type": "markdown",
      "source": [
        "**Disadvantages:**\n",
        "\n",
        "Version Control: The structure of .ipynb files makes it challenging to manage changes effectively. This can result in conflicts and difficulties in collaborative coding environments.\n",
        "\n",
        "Execution Order Dependency: The order in which cells are executed can affect the notebook's output. This can lead to confusion, eit requires a clear understanding of the notebook's execution flow."
      ],
      "metadata": {
        "id": "NrkuTFrB3rBC"
      }
    },
    {
      "cell_type": "markdown",
      "source": [
        "# Python Files (.py):\n",
        "\n",
        "**Advantages:**\n",
        "\n",
        "Modularity: Python files encourage a modular approach to coding, promoting the creation of functions and classes that can be reused in other scripts. This is beneficial for  collaboration.\n",
        "Version Control: Python files are inherently more friendly to version control systems like Git. Changes are easier to track, making collaboration smoother and reducing the likelihood of conflicts."
      ],
      "metadata": {
        "id": "rj_--f9T37hV"
      }
    },
    {
      "cell_type": "markdown",
      "source": [
        "**Disadvantages:**\n",
        "\n",
        "Lack of Interactivity: Python scripts are typically executed from start to finish, lacking the interactivity offered by Jupyter Notebooks. This makes it more challenging to explore and visualize intermediate results during the development process.\n",
        "\n",
        "Limited Rich Media Integration: While it is possible to include visualizations and comments in Python scripts, the integration of rich media is not as seamless as in Jupyter Notebooks. This may impact the ability to create comprehensive and visually appealing reports directly within the script."
      ],
      "metadata": {
        "id": "U2xuRGX44Fnb"
      }
    },
    {
      "cell_type": "markdown",
      "source": [
        "Question 2  [10 points]\n",
        "What is the difference between a Pandas DataFrame and a Pandas series. Show an\n",
        "example of how you create each of them."
      ],
      "metadata": {
        "id": "fmA6xrJK4OoQ"
      }
    },
    {
      "cell_type": "markdown",
      "source": [
        "**A Pandas DataFrame is a two-dimensional, tabular data structure with labeled axes (rows and columns). It is similar to a spreadsheet or SQL table, where data is organized in rows and columns. Each column in a DataFrame can have a different data type, and you can perform various operations like indexing, selection, filtering, and merging on DataFrames.**"
      ],
      "metadata": {
        "id": "ftrmr-4H4a5Z"
      }
    },
    {
      "cell_type": "code",
      "source": [
        "# Creating a DataFrame from a dictionary\n",
        "data = {\n",
        "    'Name': ['John', 'Jane', 'Bob', 'Alice'],\n",
        "    'Age': [25, 30, 22, 35],\n",
        "    'City': ['New York', 'Los Angeles', 'Chicago', 'Houston']\n",
        "}\n",
        "\n",
        "df = pd.DataFrame(data)\n",
        "\n",
        "# Display the DataFrame\n",
        "print(\"Pandas DataFrame:\")\n",
        "print(df)"
      ],
      "metadata": {
        "id": "okXoCGi60gwV"
      },
      "execution_count": null,
      "outputs": []
    },
    {
      "cell_type": "markdown",
      "source": [
        "**A Pandas Series is a one-dimensional labeled array that can hold data of any type. It is like a single column or a single row of a DataFrame. Each element in a Series has a label (index), and you can perform various operations like indexing, slicing, and arithmetic operations on Series.**"
      ],
      "metadata": {
        "id": "8aPmT-QP0q1U"
      }
    },
    {
      "cell_type": "code",
      "source": [
        "# Creating a Series from a list\n",
        "ages = pd.Series([25, 30, 22, 35], name='Age')\n",
        "\n",
        "# Display the Series\n",
        "print(\"Pandas Series:\")\n",
        "print(ages)"
      ],
      "metadata": {
        "id": "5_dJyGhT05S2"
      },
      "execution_count": null,
      "outputs": []
    },
    {
      "cell_type": "markdown",
      "source": [
        "Question 3  [10 points]\n",
        "Starting from the argument that a Pandas DataFrame represents rectangular data, use the\n",
        "internet and other resources to describe in no more than a few sentences  the difference\n",
        "between rectangular and non-rectangular data."
      ],
      "metadata": {
        "id": "x9qSJVrd4kAa"
      }
    },
    {
      "cell_type": "markdown",
      "source": [
        "**A Pandas DataFrame is like a table with rows and columns, and we call this rectangular data. It is organized and easy to work with, just like a spreadsheet or a database. Non-rectangular data, however, is a bit different.  It can be all kinds of shapes and structures, like nested data or graphs. Things like JSON files or XML documents fall into this category. Basically, rectangular data is like a well-organized table, while non-rectangular data can be more irregular and varied .**"
      ],
      "metadata": {
        "id": "YjmwQd9PFYJn"
      }
    },
    {
      "cell_type": "markdown",
      "source": [
        "\n",
        "\n",
        "\n",
        "\n",
        "Question 4  \n",
        "Starting from the data visualisation usage from Session 2, give examples of when figures\n",
        "could be:\n",
        "a. Of use to the data scientist to identify patterns in the data/highlight the important\n",
        "parts of a data set;\n",
        "b. Tell a story and create business presentations."
      ],
      "metadata": {
        "id": "14_gxLge4oKh"
      }
    },
    {
      "cell_type": "markdown",
      "source": [
        "#  Data scientist\n",
        "\n",
        " **Identifying Patterns and Trends:**\n",
        "\n",
        "Example: Line charts, scatter plots, or heatmaps can help a data scientist identify patterns or trends in time-series data, correlations between variables, or spatial distributions.\n",
        "\n",
        "**Data Distribution:**\n",
        "\n",
        "Example: Histograms or kernel density plots can provide insights into the distribution of a variable, helping data scientists understand the underlying data structure."
      ],
      "metadata": {
        "id": "nRdKeTbg0qCx"
      }
    },
    {
      "cell_type": "markdown",
      "source": [
        "# Business Presentations\n",
        "**Forecasting and Planning:**\n",
        "\n",
        "Example: Time-series forecasts visualized with line charts or area charts can assist in presenting future trends or predictions, aiding in business planning and strategy.\n",
        "\n",
        "**Storytelling with Data:**\n",
        "\n",
        "Example: A combination of line charts, bar graphs, and annotations can tell a compelling story about the growth or decline of key business metrics over time, helping to convey a narrative to stakeholders."
      ],
      "metadata": {
        "id": "4pP8l3ur5L36"
      }
    },
    {
      "cell_type": "markdown",
      "source": [
        "Question 5"
      ],
      "metadata": {
        "id": "T4dHSYG55MGO"
      }
    },
    {
      "cell_type": "code",
      "source": [
        "import pandas as pd\n"
      ],
      "metadata": {
        "id": "gq5lz3aP5lEV"
      },
      "execution_count": 2,
      "outputs": []
    },
    {
      "cell_type": "code",
      "source": [
        "df=titanic=pd.read_csv('https://raw.githubusercontent.com/mwaskom/seaborn-data/master/titanic.csv')"
      ],
      "metadata": {
        "id": "GeL0EjpK5QE6"
      },
      "execution_count": 9,
      "outputs": []
    },
    {
      "cell_type": "code",
      "source": [
        "print(df.head())"
      ],
      "metadata": {
        "colab": {
          "base_uri": "https://localhost:8080/"
        },
        "id": "RakecRPczzlJ",
        "outputId": "7be7241f-a3e2-4381-ee24-3911b1c93822"
      },
      "execution_count": 13,
      "outputs": [
        {
          "output_type": "stream",
          "name": "stdout",
          "text": [
            "   survived  pclass     sex   age  sibsp  parch     fare embarked  class  \\\n",
            "0         0       3    male  22.0      1      0   7.2500        S  Third   \n",
            "1         1       1  female  38.0      1      0  71.2833        C  First   \n",
            "2         1       3  female  26.0      0      0   7.9250        S  Third   \n",
            "3         1       1  female  35.0      1      0  53.1000        S  First   \n",
            "4         0       3    male  35.0      0      0   8.0500        S  Third   \n",
            "\n",
            "     who  adult_male deck  embark_town alive  alone  \n",
            "0    man        True  NaN  Southampton    no  False  \n",
            "1  woman       False    C    Cherbourg   yes  False  \n",
            "2  woman       False  NaN  Southampton   yes   True  \n",
            "3  woman       False    C  Southampton   yes  False  \n",
            "4    man        True  NaN  Southampton    no   True  \n"
          ]
        }
      ]
    },
    {
      "cell_type": "code",
      "source": [
        "print(df.describe())"
      ],
      "metadata": {
        "colab": {
          "base_uri": "https://localhost:8080/"
        },
        "id": "VzMrmneYz4Qi",
        "outputId": "b455a1a2-eb7d-4601-da5c-07e1f0bd4d00"
      },
      "execution_count": 14,
      "outputs": [
        {
          "output_type": "stream",
          "name": "stdout",
          "text": [
            "         survived      pclass         age       sibsp       parch        fare\n",
            "count  891.000000  891.000000  714.000000  891.000000  891.000000  891.000000\n",
            "mean     0.383838    2.308642   29.699118    0.523008    0.381594   32.204208\n",
            "std      0.486592    0.836071   14.526497    1.102743    0.806057   49.693429\n",
            "min      0.000000    1.000000    0.420000    0.000000    0.000000    0.000000\n",
            "25%      0.000000    2.000000   20.125000    0.000000    0.000000    7.910400\n",
            "50%      0.000000    3.000000   28.000000    0.000000    0.000000   14.454200\n",
            "75%      1.000000    3.000000   38.000000    1.000000    0.000000   31.000000\n",
            "max      1.000000    3.000000   80.000000    8.000000    6.000000  512.329200\n"
          ]
        }
      ]
    },
    {
      "cell_type": "markdown",
      "source": [
        "**I have printed out the first few rows and the describe so I would have an impression about the data and double check my answers.**"
      ],
      "metadata": {
        "id": "LjMguQQu0QQa"
      }
    },
    {
      "cell_type": "markdown",
      "source": [
        "\n",
        "a. How many columns and rows does the data have?"
      ],
      "metadata": {
        "id": "iaghOQef6LH0"
      }
    },
    {
      "cell_type": "code",
      "source": [
        "print(\"Number of rows:\", len(df))\n",
        "print(\"Number of columns:\", len(df.columns))"
      ],
      "metadata": {
        "colab": {
          "base_uri": "https://localhost:8080/"
        },
        "id": "myShE7JustFc",
        "outputId": "866815c6-b616-4f44-87c0-82aefebf83ca"
      },
      "execution_count": 5,
      "outputs": [
        {
          "output_type": "stream",
          "name": "stdout",
          "text": [
            "Number of rows: 891\n",
            "Number of columns: 15\n"
          ]
        }
      ]
    },
    {
      "cell_type": "markdown",
      "source": [
        "**The data has 15 columns and 891 rows.**"
      ],
      "metadata": {
        "id": "wGki-Z7Mwg56"
      }
    },
    {
      "cell_type": "markdown",
      "source": [
        "b, Get a sense of your data and find the min, max, count/mean."
      ],
      "metadata": {
        "id": "7WvGbhwc6VCm"
      }
    },
    {
      "cell_type": "code",
      "source": [
        "print (df.count())\n",
        "\n"
      ],
      "metadata": {
        "colab": {
          "base_uri": "https://localhost:8080/"
        },
        "id": "E9Zb9L8GrBIo",
        "outputId": "628ebbc4-5375-4261-9954-0c6325f1a748"
      },
      "execution_count": 15,
      "outputs": [
        {
          "output_type": "stream",
          "name": "stdout",
          "text": [
            "survived       891\n",
            "pclass         891\n",
            "sex            891\n",
            "age            714\n",
            "sibsp          891\n",
            "parch          891\n",
            "fare           891\n",
            "embarked       889\n",
            "class          891\n",
            "who            891\n",
            "adult_male     891\n",
            "deck           203\n",
            "embark_town    889\n",
            "alive          891\n",
            "alone          891\n",
            "dtype: int64\n"
          ]
        }
      ]
    },
    {
      "cell_type": "markdown",
      "source": [
        "This line shows how many data rows we have in each column, how big the data set is."
      ],
      "metadata": {
        "id": "oSlsJlx-0xRQ"
      }
    },
    {
      "cell_type": "markdown",
      "source": [],
      "metadata": {
        "id": "sGA8PJ-A4eez"
      }
    },
    {
      "cell_type": "markdown",
      "source": [
        "We can only calculate minimum , maximum and mean for numerical data for example age. We cannot calculate minimum, maximum and mean for a categorical data for example the column 'who' directly, without converting the data or boolean.\n",
        "Accoring to the printout of the first few lines we can see which column has what type of data."
      ],
      "metadata": {
        "id": "di5AiKUc1M6p"
      }
    },
    {
      "cell_type": "code",
      "source": [
        "print (df['age'].max(),df['age'].min(),df['age'].mean())"
      ],
      "metadata": {
        "colab": {
          "base_uri": "https://localhost:8080/"
        },
        "id": "JfMWw-s61Je_",
        "outputId": "77b06e69-25f0-4bee-95fc-69518c8fb679"
      },
      "execution_count": 21,
      "outputs": [
        {
          "output_type": "stream",
          "name": "stdout",
          "text": [
            "80.0 0.42 29.69911764705882\n"
          ]
        }
      ]
    },
    {
      "cell_type": "markdown",
      "source": [
        "**It show that the oldest passenger was 80 and the youngest was less then 1 year old. The average age of the passengers was around 30 years old.**"
      ],
      "metadata": {
        "id": "_pJglIaM4xZY"
      }
    },
    {
      "cell_type": "code",
      "source": [
        "print (df['fare'].max(),df['fare'].min(),df['fare'].mean())"
      ],
      "metadata": {
        "colab": {
          "base_uri": "https://localhost:8080/"
        },
        "id": "chGzq1Bv9mai",
        "outputId": "1ad32ae9-9870-4121-864e-7ffc4ce8a26e"
      },
      "execution_count": 22,
      "outputs": [
        {
          "output_type": "stream",
          "name": "stdout",
          "text": [
            "512.3292 0.0 32.204207968574636\n"
          ]
        }
      ]
    },
    {
      "cell_type": "markdown",
      "source": [
        "**We can see that some people paid a lot of money (512) some nothing , they might be the people working onboard and the average fare was 32.**"
      ],
      "metadata": {
        "id": "cT_AjvGO-beC"
      }
    },
    {
      "cell_type": "code",
      "source": [
        "print(df['sex'].value_counts().get('female', 0), df['sex'].value_counts().get('male',0),df['sex'].count())"
      ],
      "metadata": {
        "colab": {
          "base_uri": "https://localhost:8080/"
        },
        "id": "So7SvMtH_fBX",
        "outputId": "b7de1dcb-7497-40fa-f3e0-1e8ea825ae99"
      },
      "execution_count": 33,
      "outputs": [
        {
          "output_type": "stream",
          "name": "stdout",
          "text": [
            "314 577 891\n"
          ]
        }
      ]
    },
    {
      "cell_type": "markdown",
      "source": [
        "**Here we can see that there were more male than female passengers onboard:almost twice as many.**"
      ],
      "metadata": {
        "id": "To1op6hB_HUX"
      }
    },
    {
      "cell_type": "code",
      "source": [
        "print(df['survived'].value_counts().get(0, 0), df['survived'].value_counts().get(1,0))\n",
        "print(df['survived'].count())"
      ],
      "metadata": {
        "colab": {
          "base_uri": "https://localhost:8080/"
        },
        "outputId": "04df600c-9b7d-483f-a60c-51b2f361c455",
        "id": "vYvAIq44Aj3y"
      },
      "execution_count": 27,
      "outputs": [
        {
          "output_type": "stream",
          "name": "stdout",
          "text": [
            "549 342\n",
            "891\n"
          ]
        }
      ]
    },
    {
      "cell_type": "markdown",
      "source": [
        "**549 people did not survive the trip and 342 survived out of the total of 891 people.**"
      ],
      "metadata": {
        "id": "fhbOVR4YAwiR"
      }
    },
    {
      "cell_type": "code",
      "source": [
        "print(df['class'].value_counts().get('First', 0), df['class'].value_counts().get('Second',0),df['class'].value_counts().get('Third',0),df['class'].count())"
      ],
      "metadata": {
        "colab": {
          "base_uri": "https://localhost:8080/"
        },
        "outputId": "082402ff-791e-4ffe-bec4-9d664dec21bf",
        "id": "0bpSE90NBu5v"
      },
      "execution_count": 31,
      "outputs": [
        {
          "output_type": "stream",
          "name": "stdout",
          "text": [
            "216 184 491 891\n"
          ]
        }
      ]
    },
    {
      "cell_type": "markdown",
      "source": [
        "**216 of the passngers travelled on first class, 184 travelled on second and 491 , almost half of the pessangers, on third class out of the total of 891.**"
      ],
      "metadata": {
        "id": "VwqUdYclCnDD"
      }
    },
    {
      "cell_type": "markdown",
      "source": [
        "c, Give an overview (code an explanation) all missing values in the data."
      ],
      "metadata": {
        "id": "5ngIiqvj6gOi"
      }
    },
    {
      "cell_type": "code",
      "source": [
        "missing_values = df.isnull().sum()\n",
        "print(\"\\nMissing values summary:\")\n",
        "print(missing_values)"
      ],
      "metadata": {
        "colab": {
          "base_uri": "https://localhost:8080/"
        },
        "id": "Y9gfkY2TtFFI",
        "outputId": "ad631b4f-203e-456b-8e50-a3ffb67f349c"
      },
      "execution_count": 32,
      "outputs": [
        {
          "output_type": "stream",
          "name": "stdout",
          "text": [
            "\n",
            "Missing values summary:\n",
            "survived         0\n",
            "pclass           0\n",
            "sex              0\n",
            "age            177\n",
            "sibsp            0\n",
            "parch            0\n",
            "fare             0\n",
            "embarked         2\n",
            "class            0\n",
            "who              0\n",
            "adult_male       0\n",
            "deck           688\n",
            "embark_town      2\n",
            "alive            0\n",
            "alone            0\n",
            "dtype: int64\n"
          ]
        }
      ]
    },
    {
      "cell_type": "markdown",
      "source": [
        "**The missing values come from the age coloumn an deck column. So in 177 cases we do not know the age of the passenger out of 891 passengers. In most cases, 688 , we do not know the deck data. In two cases out of 891 passengers we do not know the place of embarkment.**"
      ],
      "metadata": {
        "id": "ArDlTYg2D03L"
      }
    },
    {
      "cell_type": "markdown",
      "source": [
        "d, Delete the rows where you do not have infomation about the age of the person.Then group the passengers in a 10 year age range."
      ],
      "metadata": {
        "id": "dtHDik0u6p2g"
      }
    },
    {
      "cell_type": "code",
      "source": [
        "df = df.dropna(subset=['age'])"
      ],
      "metadata": {
        "id": "SUPyA8KytyZs"
      },
      "execution_count": null,
      "outputs": []
    },
    {
      "cell_type": "markdown",
      "source": [
        "**This line deletes the rows where we do not have any information (NA)about the age of the person.**"
      ],
      "metadata": {
        "id": "YYc39D04w5Wl"
      }
    },
    {
      "cell_type": "code",
      "source": [
        "bins = [0, 10, 20, 30,40,50, 60, 70, 80]\n",
        "labels = ['0-10', '11-20', '21-30','31-40','41-50','51-60','61-70','71-80']\n",
        "\n",
        "df['Age_Group'] = pd.cut(df['age'], bins=bins, labels=labels, right=False)"
      ],
      "metadata": {
        "id": "twP7IPTGt567"
      },
      "execution_count": null,
      "outputs": []
    },
    {
      "cell_type": "code",
      "source": [
        "print(df['Age_Group'])"
      ],
      "metadata": {
        "id": "JWQMJaaavKLQ"
      },
      "execution_count": null,
      "outputs": []
    },
    {
      "cell_type": "markdown",
      "source": [
        "**The lines about create bins (categories) for the passengers according to their age in a 10 year age range. Then we print out the categories.**"
      ],
      "metadata": {
        "id": "FNj0y_jtxUpt"
      }
    },
    {
      "cell_type": "markdown",
      "source": [
        "e, For each age category created in d, find out how many passengers are female/male and how many travelled in each class."
      ],
      "metadata": {
        "id": "jRhQ7bRxr3SX"
      }
    },
    {
      "cell_type": "code",
      "source": [
        "summary_table = df.groupby(['Age_Group', 'sex', 'class']).size().unstack(fill_value=0)"
      ],
      "metadata": {
        "id": "zwd9Ud04vpvC"
      },
      "execution_count": null,
      "outputs": []
    },
    {
      "cell_type": "code",
      "source": [
        "print(summary_table)"
      ],
      "metadata": {
        "colab": {
          "base_uri": "https://localhost:8080/"
        },
        "id": "TXU61uV9yMW6",
        "outputId": "b5262ded-4662-4fb0-ce23-5f77d1b2e1d1"
      },
      "execution_count": null,
      "outputs": [
        {
          "output_type": "stream",
          "name": "stdout",
          "text": [
            "class             First  Second  Third\n",
            "Age_Group sex                         \n",
            "0-10      female      1       8     21\n",
            "          male        2       9     21\n",
            "11-20     female     13       8     24\n",
            "          male        5      10     42\n",
            "21-30     female     16      25     31\n",
            "          male       18      28    102\n",
            "31-40     female     27      17     16\n",
            "          male       23      31     53\n",
            "41-50     female     13      10      9\n",
            "          male       24       8     25\n",
            "51-60     female     12       6      0\n",
            "          male       15       9      6\n",
            "61-70     female      3       0      1\n",
            "          male       10       3      2\n",
            "71-80     female      0       0      0\n",
            "          male        3       1      2\n"
          ]
        }
      ]
    },
    {
      "cell_type": "markdown",
      "source": [
        "**The table above shows the quantity of passengers by gender in each category accoring to  age groups and how many   travelled in each class.**"
      ],
      "metadata": {
        "id": "jTB4ksDLyDZa"
      }
    }
  ]
}